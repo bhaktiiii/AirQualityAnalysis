{
 "cells": [
  {
   "cell_type": "code",
   "execution_count": 3,
   "metadata": {},
   "outputs": [
    {
     "name": "stdout",
     "output_type": "stream",
     "text": [
      " Volume in drive C is OS\n",
      " Volume Serial Number is AECD-154A\n",
      "\n",
      " Directory of C:\\Users\\Bhakti\\Untitled Folder 1\n",
      "\n",
      "28-11-2020  09:30    <DIR>          .\n",
      "28-11-2020  09:30    <DIR>          ..\n",
      "20-08-2020  11:59    <DIR>          .ipynb_checkpoints\n",
      "20-08-2020  11:51            73,465 anand-vihar, delhi-air-quality.csv\n",
      "28-11-2020  09:30            43,818 LitSur.ipynb\n",
      "19-08-2020  23:17                 0 untitled.txt\n",
      "               3 File(s)        117,283 bytes\n",
      "               3 Dir(s)  20,787,556,352 bytes free\n"
     ]
    }
   ],
   "source": [
    "ls"
   ]
  },
  {
   "cell_type": "code",
   "execution_count": 1,
   "metadata": {},
   "outputs": [],
   "source": [
    "import os\n",
    "from sklearn.tree import DecisionTreeClassifier, export_graphviz\n",
    "import pandas as pd\n",
    "import numpy as np\n",
    "from time import time\n",
    "from sklearn.linear_model import LinearRegression\n",
    "from sklearn.linear_model import SGDRegressor\n",
    "from sklearn.preprocessing import StandardScaler\n",
    "from sklearn.model_selection import train_test_split, cross_val_score\n",
    "from sklearn.model_selection import train_test_split\n",
    "from sklearn.pipeline import Pipeline\n",
    "from sklearn.metrics import roc_auc_score , classification_report, mean_squared_error, r2_score\n",
    "from sklearn.metrics import precision_score, recall_score, accuracy_score, classification_report\n",
    "from sklearn.model_selection import learning_curve, GridSearchCV\n",
    "from sklearn.pipeline import Pipeline\n",
    "from sklearn.feature_selection import *\n",
    "from sklearn import metrics\n",
    "import matplotlib.pyplot as plt\n",
    "import seaborn as sns"
   ]
  },
  {
   "cell_type": "code",
   "execution_count": 2,
   "metadata": {},
   "outputs": [],
   "source": [
    "d1= pd.read_csv(\"./anand-vihar, delhi-air-quality.csv\")\n",
    "d1 = d1.sort_values(by=\"date\")\n",
    "d1.columns\n",
    "\n",
    "d1= d1.rename(columns = {\" pm25\": \"pm25\", \n",
    "                         \" pm10\":\"pm10\", \n",
    "                         \" o3\": \"o3\",\n",
    "                         ' no2' : 'no2',\n",
    "                         ' so2' : 'so2',\n",
    "                         ' co' : 'co'})\n",
    "\n",
    "d1.columns\n",
    "features=list(d1.columns)"
   ]
  },
  {
   "cell_type": "code",
   "execution_count": 3,
   "metadata": {},
   "outputs": [
    {
     "data": {
      "text/html": [
       "<div>\n",
       "<style scoped>\n",
       "    .dataframe tbody tr th:only-of-type {\n",
       "        vertical-align: middle;\n",
       "    }\n",
       "\n",
       "    .dataframe tbody tr th {\n",
       "        vertical-align: top;\n",
       "    }\n",
       "\n",
       "    .dataframe thead th {\n",
       "        text-align: right;\n",
       "    }\n",
       "</style>\n",
       "<table border=\"1\" class=\"dataframe\">\n",
       "  <thead>\n",
       "    <tr style=\"text-align: right;\">\n",
       "      <th></th>\n",
       "      <th>date</th>\n",
       "      <th>pm25</th>\n",
       "      <th>pm10</th>\n",
       "      <th>o3</th>\n",
       "      <th>no2</th>\n",
       "      <th>so2</th>\n",
       "      <th>co</th>\n",
       "    </tr>\n",
       "  </thead>\n",
       "  <tbody>\n",
       "    <tr>\n",
       "      <th>2142</th>\n",
       "      <td>2013/12/31</td>\n",
       "      <td></td>\n",
       "      <td>302</td>\n",
       "      <td>5</td>\n",
       "      <td>33</td>\n",
       "      <td>5</td>\n",
       "      <td>20</td>\n",
       "    </tr>\n",
       "    <tr>\n",
       "      <th>1986</th>\n",
       "      <td>2014/1/1</td>\n",
       "      <td>328</td>\n",
       "      <td>308</td>\n",
       "      <td>5</td>\n",
       "      <td>45</td>\n",
       "      <td>22</td>\n",
       "      <td>29</td>\n",
       "    </tr>\n",
       "    <tr>\n",
       "      <th>1994</th>\n",
       "      <td>2014/1/10</td>\n",
       "      <td>468</td>\n",
       "      <td>545</td>\n",
       "      <td>8</td>\n",
       "      <td>43</td>\n",
       "      <td>13</td>\n",
       "      <td>32</td>\n",
       "    </tr>\n",
       "    <tr>\n",
       "      <th>1995</th>\n",
       "      <td>2014/1/11</td>\n",
       "      <td>317</td>\n",
       "      <td></td>\n",
       "      <td></td>\n",
       "      <td></td>\n",
       "      <td></td>\n",
       "      <td></td>\n",
       "    </tr>\n",
       "    <tr>\n",
       "      <th>2144</th>\n",
       "      <td>2014/1/12</td>\n",
       "      <td></td>\n",
       "      <td>490</td>\n",
       "      <td>11</td>\n",
       "      <td>48</td>\n",
       "      <td>12</td>\n",
       "      <td>31</td>\n",
       "    </tr>\n",
       "  </tbody>\n",
       "</table>\n",
       "</div>"
      ],
      "text/plain": [
       "            date  pm25  pm10   o3  no2  so2   co\n",
       "2142  2013/12/31         302    5   33    5   20\n",
       "1986    2014/1/1   328   308    5   45   22   29\n",
       "1994   2014/1/10   468   545    8   43   13   32\n",
       "1995   2014/1/11   317                          \n",
       "2144   2014/1/12         490   11   48   12   31"
      ]
     },
     "execution_count": 3,
     "metadata": {},
     "output_type": "execute_result"
    }
   ],
   "source": [
    "d1.head()"
   ]
  },
  {
   "cell_type": "code",
   "execution_count": 4,
   "metadata": {},
   "outputs": [],
   "source": [
    "d1['pm25'] = pd.to_numeric(d1['pm25'],errors='coerce')\n",
    "d1['pm10'] = pd.to_numeric(d1['pm10'],errors='coerce')\n",
    "d1['o3'] = pd.to_numeric(d1['o3'],errors='coerce')\n",
    "d1['no2'] = pd.to_numeric(d1['no2'],errors='coerce')\n",
    "d1['so2'] = pd.to_numeric(d1['so2'],errors='coerce')\n",
    "d1['co'] = pd.to_numeric(d1['co'],errors='coerce')"
   ]
  },
  {
   "cell_type": "code",
   "execution_count": 5,
   "metadata": {},
   "outputs": [
    {
     "data": {
      "text/html": [
       "<div>\n",
       "<style scoped>\n",
       "    .dataframe tbody tr th:only-of-type {\n",
       "        vertical-align: middle;\n",
       "    }\n",
       "\n",
       "    .dataframe tbody tr th {\n",
       "        vertical-align: top;\n",
       "    }\n",
       "\n",
       "    .dataframe thead th {\n",
       "        text-align: right;\n",
       "    }\n",
       "</style>\n",
       "<table border=\"1\" class=\"dataframe\">\n",
       "  <thead>\n",
       "    <tr style=\"text-align: right;\">\n",
       "      <th></th>\n",
       "      <th>Total</th>\n",
       "      <th>Percent</th>\n",
       "    </tr>\n",
       "  </thead>\n",
       "  <tbody>\n",
       "    <tr>\n",
       "      <th>co</th>\n",
       "      <td>156</td>\n",
       "      <td>0.072457</td>\n",
       "    </tr>\n",
       "    <tr>\n",
       "      <th>no2</th>\n",
       "      <td>123</td>\n",
       "      <td>0.057130</td>\n",
       "    </tr>\n",
       "    <tr>\n",
       "      <th>pm10</th>\n",
       "      <td>107</td>\n",
       "      <td>0.049698</td>\n",
       "    </tr>\n",
       "    <tr>\n",
       "      <th>so2</th>\n",
       "      <td>105</td>\n",
       "      <td>0.048769</td>\n",
       "    </tr>\n",
       "    <tr>\n",
       "      <th>o3</th>\n",
       "      <td>101</td>\n",
       "      <td>0.046911</td>\n",
       "    </tr>\n",
       "  </tbody>\n",
       "</table>\n",
       "</div>"
      ],
      "text/plain": [
       "      Total   Percent\n",
       "co      156  0.072457\n",
       "no2     123  0.057130\n",
       "pm10    107  0.049698\n",
       "so2     105  0.048769\n",
       "o3      101  0.046911"
      ]
     },
     "execution_count": 5,
     "metadata": {},
     "output_type": "execute_result"
    },
    {
     "data": {
      "image/png": "[encoded data removed]",
      "text/plain": [
       "<Figure size 1080x432 with 1 Axes>"
      ]
     },
     "metadata": {
      "needs_background": "light"
     },
     "output_type": "display_data"
    }
   ],
   "source": [
    "#Data Preprocessing\n",
    "dataset=d1\n",
    "total = dataset.isnull().sum().sort_values(ascending=False)\n",
    "percent = (dataset.isnull().sum()/dataset.isnull().count()).sort_values(ascending=False)\n",
    "missing_data = pd.concat([total, percent], axis=1, keys=['Total', 'Percent'])\n",
    "f, ax = plt.subplots(figsize=(15, 6))\n",
    "plt.xticks(rotation='90')\n",
    "sns.barplot(x=missing_data.index, y=missing_data['Percent'])\n",
    "plt.xlabel('Features', fontsize=15)\n",
    "plt.ylabel('Percent of missing values', fontsize=15)\n",
    "plt.title('Percent missing data by feature', fontsize=15)\n",
    "missing_data.head()\n",
    "\n",
    "#dataset=d1\n",
    "#total = dataset.isnull().sum().sort_values(ascending=False)\n",
    "#percent = (dataset.isnull().sum()/dataset.isnull().count()).sort_values(ascending=False)\n",
    "#missing_data = pd.concat([total, percent], axis=1, keys=['Total', 'Percent'])\n",
    "#f, ax = plt.subplots(figsize=(15, 6))\n",
    "#plt.xticks(rotation='90')\n",
    "#sns.barplot(x=missing_data.index, y=missing_data['Percent'])\n",
    "#plt.xlabel('Features', fontsize=15)\n",
    "#plt.ylabel('Percent of missing values', fontsize=15)\n",
    "#plt.title('Percent missing data by feature', fontsize=15)\n",
    "#missing_data.head()\n"
   ]
  },
  {
   "cell_type": "code",
   "execution_count": 6,
   "metadata": {},
   "outputs": [],
   "source": [
    "rawdata=d1"
   ]
  },
  {
   "cell_type": "code",
   "execution_count": 7,
   "metadata": {},
   "outputs": [],
   "source": [
    "for label,content in d1.items():\n",
    "    if label != 'date':\n",
    "        d1[label]=d1[label].fillna(d1[label].mean())\n",
    "        \n",
    "d1=d1.drop(['date'],axis=1)"
   ]
  },
  {
   "cell_type": "code",
   "execution_count": 8,
   "metadata": {},
   "outputs": [
    {
     "data": {
      "text/plain": [
       "['pm25', 'pm10', 'o3', 'no2', 'so2', 'co']"
      ]
     },
     "execution_count": 8,
     "metadata": {},
     "output_type": "execute_result"
    }
   ],
   "source": [
    "features=list(d1.columns)\n",
    "features"
   ]
  },
  {
   "cell_type": "markdown",
   "metadata": {},
   "source": [
    "# Assignment"
   ]
  },
  {
   "cell_type": "code",
   "execution_count": 9,
   "metadata": {},
   "outputs": [],
   "source": [
    "X = d1[features]\n",
    "y = d1['pm25']#Sequential Learning."
   ]
  },
  {
   "cell_type": "code",
   "execution_count": 10,
   "metadata": {},
   "outputs": [
    {
     "name": "stdout",
     "output_type": "stream",
     "text": [
      "(1291, 6) (1291,)\n",
      "(862, 6) (862,)\n"
     ]
    }
   ],
   "source": [
    "X_train, X_test, y_train, y_test = train_test_split(X,y, test_size=0.4, random_state=0)\n",
    "print(X_train.shape, y_train.shape)\n",
    "print(X_test.shape,y_test.shape)"
   ]
  },
  {
   "cell_type": "markdown",
   "metadata": {},
   "source": [
    "# Regression\n",
    "Decision Tree Regression"
   ]
  },
  {
   "cell_type": "code",
   "execution_count": 11,
   "metadata": {},
   "outputs": [
    {
     "name": "stdout",
     "output_type": "stream",
     "text": [
      "MSE train: 282.211, test: 607.076\n",
      "R^2 train: 0.969, test: 0.941\n"
     ]
    }
   ],
   "source": [
    "from sklearn.tree import DecisionTreeRegressor\n",
    "\n",
    "tree = DecisionTreeRegressor(max_depth=3)\n",
    "tree.fit(X_train, y_train)\n",
    "\n",
    "y_train_pred = tree.predict(X_train)\n",
    "y_test_pred = tree.predict(X_test)\n",
    "\n",
    "print('MSE train: %.3f, test: %.3f' % (\n",
    "        mean_squared_error(y_train, y_train_pred),\n",
    "        mean_squared_error(y_test, y_test_pred)))\n",
    "print('R^2 train: %.3f, test: %.3f' % (\n",
    "        r2_score(y_train, y_train_pred),\n",
    "        r2_score(y_test, y_test_pred)))"
   ]
  },
  {
   "cell_type": "markdown",
   "metadata": {},
   "source": [
    "# Random forest Regression"
   ]
  },
  {
   "cell_type": "code",
   "execution_count": 12,
   "metadata": {},
   "outputs": [
    {
     "name": "stdout",
     "output_type": "stream",
     "text": [
      "MSE train: 0.822, test: 132.138\n",
      "R^2 train: 1.000, test: 0.987\n"
     ]
    }
   ],
   "source": [
    "from sklearn.ensemble import RandomForestRegressor\n",
    "\n",
    "forest = RandomForestRegressor(n_estimators=1000, \n",
    "                               criterion='mse', \n",
    "                               random_state=1, \n",
    "                               n_jobs=-1)\n",
    "forest.fit(X_train, y_train)\n",
    "y_train_pred = forest.predict(X_train)\n",
    "y_test_pred = forest.predict(X_test)\n",
    "\n",
    "print('MSE train: %.3f, test: %.3f' % (\n",
    "        mean_squared_error(y_train, y_train_pred),\n",
    "        mean_squared_error(y_test, y_test_pred)))\n",
    "print('R^2 train: %.3f, test: %.3f' % (\n",
    "        r2_score(y_train, y_train_pred),\n",
    "        r2_score(y_test, y_test_pred)))"
   ]
  },
  {
   "cell_type": "code",
   "execution_count": 16,
   "metadata": {},
   "outputs": [],
   "source": [
    "from sklearn.model_selection import KFold\n",
    "\n",
    "def train_and_evaluate(clf, X_train, y_train):\n",
    "    \n",
    "    clf.fit(X_train, y_train)\n",
    "    \n",
    "    print (\"Coefficient of determination on training set:\",clf.score(X_train, y_train))\n",
    "    \n",
    "    # create a k-fold croos validation iterator of k=5 folds\n",
    "    cv = KFold(5, shuffle=True, random_state=33)\n",
    "    scores = cross_val_score(clf, X_train, y_train, cv=cv)\n",
    "    print (\"Average coefficient of determination using 5-fold crossvalidation:\",np.mean(scores))"
   ]
  },
  {
   "cell_type": "code",
   "execution_count": 17,
   "metadata": {},
   "outputs": [
    {
     "name": "stdout",
     "output_type": "stream",
     "text": [
      "Coefficient of determination on training set: 0.9999996982478853\n",
      "Average coefficient of determination using 5-fold crossvalidation: 0.9999996720130326\n"
     ]
    }
   ],
   "source": [
    "from sklearn import svm\n",
    "clf_svr= svm.SVR(kernel='linear')\n",
    "train_and_evaluate(clf_svr,X_train,y_train)"
   ]
  },
  {
   "cell_type": "code",
   "execution_count": 18,
   "metadata": {},
   "outputs": [
    {
     "name": "stdout",
     "output_type": "stream",
     "text": [
      "Coefficient of determination on training set: 0.825175936028312\n",
      "Average coefficient of determination using 5-fold crossvalidation: 0.820412303109259\n"
     ]
    }
   ],
   "source": [
    "clf_svr_poly= svm.SVR(kernel='poly')\n",
    "train_and_evaluate(clf_svr_poly,X_train,y_train)"
   ]
  },
  {
   "cell_type": "code",
   "execution_count": 19,
   "metadata": {},
   "outputs": [
    {
     "name": "stdout",
     "output_type": "stream",
     "text": [
      "Coefficient of determination on training set: 0.8343683934171898\n",
      "Average coefficient of determination using 5-fold crossvalidation: 0.7602915841461029\n"
     ]
    }
   ],
   "source": [
    "clf_svr_rbf= svm.SVR(kernel='rbf')\n",
    "train_and_evaluate(clf_svr_rbf,X_train,y_train)"
   ]
  },
  {
   "cell_type": "code",
   "execution_count": 20,
   "metadata": {},
   "outputs": [
    {
     "name": "stdout",
     "output_type": "stream",
     "text": [
      "Coefficient of determination on training set: 0.9396965218496407\n",
      "Average coefficient of determination using 5-fold crossvalidation: 0.9351490012708789\n"
     ]
    }
   ],
   "source": [
    "clf_svr_poly2= svm.SVR(kernel='poly',degree=2)\n",
    "train_and_evaluate(clf_svr_poly2,X_train,y_train)"
   ]
  },
  {
   "cell_type": "code",
   "execution_count": 13,
   "metadata": {},
   "outputs": [],
   "source": [
    "###Lockdown  Data Visualization###"
   ]
  },
  {
   "cell_type": "code",
   "execution_count": 14,
   "metadata": {},
   "outputs": [
    {
     "data": {
      "text/plain": [
       "Index(['date', 'pm25', 'pm10', 'o3', 'no2', 'so2', 'co'], dtype='object')"
      ]
     },
     "execution_count": 14,
     "metadata": {},
     "output_type": "execute_result"
    }
   ],
   "source": [
    "rawdata.columns"
   ]
  },
  {
   "cell_type": "code",
   "execution_count": 15,
   "metadata": {},
   "outputs": [
    {
     "data": {
      "text/plain": [
       "(37, 7)"
      ]
     },
     "execution_count": 15,
     "metadata": {},
     "output_type": "execute_result"
    }
   ],
   "source": [
    "rawdata['date'] = pd.to_datetime(rawdata.date)\n",
    "rawdata['date']=pd.to_datetime(rawdata['date'])\n",
    "rawdata=rawdata.sort_values(by=['date'])\n",
    "df21 = rawdata.loc[rawdata['date'] > '2020-03-24']\n",
    "df21 = df21.sort_values(by = 'date')\n",
    "df21.shape"
   ]
  },
  {
   "cell_type": "code",
   "execution_count": 16,
   "metadata": {},
   "outputs": [
    {
     "data": {
      "image/png": "[encoded data removed]",
      "text/plain": [
       "<Figure size 720x576 with 1 Axes>"
      ]
     },
     "metadata": {
      "needs_background": "light"
     },
     "output_type": "display_data"
    }
   ],
   "source": [
    "import matplotlib.pyplot as plt\n",
    "\n",
    "dates = df21['date']\n",
    "pm25 = df21['pm25']\n",
    "pm25 = [int(i) for i in pm25]\n",
    "\n",
    "plt.figure(figsize=(10,8))\n",
    "\n",
    "length = len(dates)\n",
    "\n",
    "plt.plot(dates,pm25)\n",
    "plt.title('37 Days PM2.5 values in lockdown days')\n",
    "plt.xlabel('Dates of lockdown')\n",
    "plt.ylabel('PM2.5 values')\n",
    "\n",
    "plt.show()"
   ]
  },
  {
   "cell_type": "code",
   "execution_count": 17,
   "metadata": {},
   "outputs": [
    {
     "data": {
      "text/plain": [
       "(37, 7)"
      ]
     },
     "execution_count": 17,
     "metadata": {},
     "output_type": "execute_result"
    }
   ],
   "source": [
    "mask = (rawdata['date'] >= '2020-02-17') & (rawdata['date']  < '2020-03-25')\n",
    "\n",
    "past21 = rawdata.loc[mask]\n",
    "past21.shape"
   ]
  },
  {
   "cell_type": "code",
   "execution_count": 18,
   "metadata": {},
   "outputs": [
    {
     "data": {
      "image/png": "[encoded data removed]",
      "text/plain": [
       "<Figure size 720x576 with 1 Axes>"
      ]
     },
     "metadata": {
      "needs_background": "light"
     },
     "output_type": "display_data"
    }
   ],
   "source": [
    "###plots for b4 and after lockdown\n",
    "import matplotlib.pyplot as plt\n",
    "\n",
    "dates = df21['date']\n",
    "pm25_l = df21['pm25']\n",
    "pm25_l = [int(i) for i in pm25]\n",
    "\n",
    "\n",
    "pm25_n = past21['pm25']\n",
    "pm25_n = [int(i) for i in pm25_n]\n",
    "\n",
    "plt.figure(figsize=(10,8))\n",
    "\n",
    "length = [i for i in range(1,len(dates)+1)]\n",
    "\n",
    "plt.plot(length,pm25_l,color='blue',label='under lockdown')\n",
    "plt.plot(length,pm25_n,color='red',label='before lockdown')\n",
    "plt.legend()\n",
    "plt.title('Comparision of before lockdown vs under lockdown pm2.5 values of 37 Days')\n",
    "plt.show()"
   ]
  },
  {
   "cell_type": "code",
   "execution_count": null,
   "metadata": {},
   "outputs": [],
   "source": []
  }
 ],
 "metadata": {
  "kernelspec": {
   "display_name": "Python 3",
   "language": "python",
   "name": "python3"
  },
  "language_info": {
   "codemirror_mode": {
    "name": "ipython",
    "version": 3
   },
   "file_extension": ".py",
   "mimetype": "text/x-python",
   "name": "python",
   "nbconvert_exporter": "python",
   "pygments_lexer": "ipython3",
   "version": "3.7.6"
  }
 },
 "nbformat": 4,
 "nbformat_minor": 4
}
